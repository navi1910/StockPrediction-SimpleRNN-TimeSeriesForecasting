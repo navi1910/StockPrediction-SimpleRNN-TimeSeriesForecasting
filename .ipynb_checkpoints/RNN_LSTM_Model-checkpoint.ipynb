{
 "cells": [
  {
   "cell_type": "markdown",
   "metadata": {},
   "source": [
    "## Creating a Long Short Term Memory Recurrent Neural Network"
   ]
  },
  {
   "cell_type": "code",
   "execution_count": 1,
   "metadata": {},
   "outputs": [],
   "source": [
    "import pandas as pd\n",
    "import numpy as np\n",
    "import seaborn as sns\n",
    "import matplotlib.pyplot as plt\n",
    "from sklearn.preprocessing import MinMaxScaler"
   ]
  },
  {
   "cell_type": "code",
   "execution_count": 2,
   "metadata": {},
   "outputs": [],
   "source": [
    "import tensorflow as tf\n",
    "from tensorflow import keras"
   ]
  },
  {
   "cell_type": "code",
   "execution_count": 3,
   "metadata": {},
   "outputs": [],
   "source": [
    "df = pd.read_csv('Tesla_stocks.csv', parse_dates = ['Date'])"
   ]
  },
  {
   "cell_type": "code",
   "execution_count": 4,
   "metadata": {},
   "outputs": [
    {
     "data": {
      "text/html": [
       "<div>\n",
       "<style scoped>\n",
       "    .dataframe tbody tr th:only-of-type {\n",
       "        vertical-align: middle;\n",
       "    }\n",
       "\n",
       "    .dataframe tbody tr th {\n",
       "        vertical-align: top;\n",
       "    }\n",
       "\n",
       "    .dataframe thead th {\n",
       "        text-align: right;\n",
       "    }\n",
       "</style>\n",
       "<table border=\"1\" class=\"dataframe\">\n",
       "  <thead>\n",
       "    <tr style=\"text-align: right;\">\n",
       "      <th></th>\n",
       "      <th>Date</th>\n",
       "      <th>Open</th>\n",
       "      <th>High</th>\n",
       "      <th>Low</th>\n",
       "      <th>Close</th>\n",
       "      <th>Volume</th>\n",
       "      <th>Adj Close</th>\n",
       "    </tr>\n",
       "  </thead>\n",
       "  <tbody>\n",
       "    <tr>\n",
       "      <th>0</th>\n",
       "      <td>2010-06-29</td>\n",
       "      <td>19.000000</td>\n",
       "      <td>25.00</td>\n",
       "      <td>17.540001</td>\n",
       "      <td>23.889999</td>\n",
       "      <td>18766300</td>\n",
       "      <td>23.889999</td>\n",
       "    </tr>\n",
       "    <tr>\n",
       "      <th>1</th>\n",
       "      <td>2010-06-30</td>\n",
       "      <td>25.790001</td>\n",
       "      <td>30.42</td>\n",
       "      <td>23.299999</td>\n",
       "      <td>23.830000</td>\n",
       "      <td>17187100</td>\n",
       "      <td>23.830000</td>\n",
       "    </tr>\n",
       "    <tr>\n",
       "      <th>2</th>\n",
       "      <td>2010-07-01</td>\n",
       "      <td>25.000000</td>\n",
       "      <td>25.92</td>\n",
       "      <td>20.270000</td>\n",
       "      <td>21.959999</td>\n",
       "      <td>8218800</td>\n",
       "      <td>21.959999</td>\n",
       "    </tr>\n",
       "    <tr>\n",
       "      <th>3</th>\n",
       "      <td>2010-07-02</td>\n",
       "      <td>23.000000</td>\n",
       "      <td>23.10</td>\n",
       "      <td>18.709999</td>\n",
       "      <td>19.200001</td>\n",
       "      <td>5139800</td>\n",
       "      <td>19.200001</td>\n",
       "    </tr>\n",
       "    <tr>\n",
       "      <th>4</th>\n",
       "      <td>2010-07-06</td>\n",
       "      <td>20.000000</td>\n",
       "      <td>20.00</td>\n",
       "      <td>15.830000</td>\n",
       "      <td>16.110001</td>\n",
       "      <td>6866900</td>\n",
       "      <td>16.110001</td>\n",
       "    </tr>\n",
       "  </tbody>\n",
       "</table>\n",
       "</div>"
      ],
      "text/plain": [
       "        Date       Open   High        Low      Close    Volume  Adj Close\n",
       "0 2010-06-29  19.000000  25.00  17.540001  23.889999  18766300  23.889999\n",
       "1 2010-06-30  25.790001  30.42  23.299999  23.830000  17187100  23.830000\n",
       "2 2010-07-01  25.000000  25.92  20.270000  21.959999   8218800  21.959999\n",
       "3 2010-07-02  23.000000  23.10  18.709999  19.200001   5139800  19.200001\n",
       "4 2010-07-06  20.000000  20.00  15.830000  16.110001   6866900  16.110001"
      ]
     },
     "execution_count": 4,
     "metadata": {},
     "output_type": "execute_result"
    }
   ],
   "source": [
    "df.head()"
   ]
  },
  {
   "cell_type": "code",
   "execution_count": 5,
   "metadata": {},
   "outputs": [
    {
     "name": "stdout",
     "output_type": "stream",
     "text": [
      "<class 'pandas.core.frame.DataFrame'>\n",
      "RangeIndex: 1692 entries, 0 to 1691\n",
      "Data columns (total 7 columns):\n",
      " #   Column     Non-Null Count  Dtype         \n",
      "---  ------     --------------  -----         \n",
      " 0   Date       1692 non-null   datetime64[ns]\n",
      " 1   Open       1692 non-null   float64       \n",
      " 2   High       1692 non-null   float64       \n",
      " 3   Low        1692 non-null   float64       \n",
      " 4   Close      1692 non-null   float64       \n",
      " 5   Volume     1692 non-null   int64         \n",
      " 6   Adj Close  1692 non-null   float64       \n",
      "dtypes: datetime64[ns](1), float64(5), int64(1)\n",
      "memory usage: 92.7 KB\n"
     ]
    }
   ],
   "source": [
    "df.info()"
   ]
  },
  {
   "cell_type": "code",
   "execution_count": 6,
   "metadata": {},
   "outputs": [
    {
     "name": "stdout",
     "output_type": "stream",
     "text": [
      "Total observations: 1692\n",
      "Training set: 1184\n",
      "Validation set: 508\n"
     ]
    }
   ],
   "source": [
    "train_length = round(len(df)*0.7)\n",
    "lg = len(df)\n",
    "val_length = lg-train_length\n",
    "\n",
    "print('Total observations:',lg)\n",
    "print('Training set:', train_length)\n",
    "print('Validation set:', val_length)"
   ]
  },
  {
   "cell_type": "code",
   "execution_count": 7,
   "metadata": {},
   "outputs": [],
   "source": [
    "train_data = df['Open'][:train_length,]\n",
    "val_data = df['Open'][train_length:,]"
   ]
  },
  {
   "cell_type": "code",
   "execution_count": 8,
   "metadata": {},
   "outputs": [
    {
     "data": {
      "text/plain": [
       "1184    188.949997\n",
       "1185    192.000000\n",
       "1186    195.429993\n",
       "1187    194.960007\n",
       "1188    202.000000\n",
       "           ...    \n",
       "1687    244.820007\n",
       "1688    246.110001\n",
       "1689    257.000000\n",
       "1690    262.399994\n",
       "1691    264.000000\n",
       "Name: Open, Length: 508, dtype: float64"
      ]
     },
     "execution_count": 8,
     "metadata": {},
     "output_type": "execute_result"
    }
   ],
   "source": [
    "val_data"
   ]
  },
  {
   "cell_type": "code",
   "execution_count": 9,
   "metadata": {},
   "outputs": [
    {
     "data": {
      "text/plain": [
       "0        19.000000\n",
       "1        25.790001\n",
       "2        25.000000\n",
       "3        23.000000\n",
       "4        20.000000\n",
       "           ...    \n",
       "1179    199.210007\n",
       "1180    194.389999\n",
       "1181    188.460007\n",
       "1182    191.149994\n",
       "1183    193.750000\n",
       "Name: Open, Length: 1184, dtype: float64"
      ]
     },
     "execution_count": 9,
     "metadata": {},
     "output_type": "execute_result"
    }
   ],
   "source": [
    "train_data"
   ]
  },
  {
   "cell_type": "code",
   "execution_count": 10,
   "metadata": {},
   "outputs": [
    {
     "data": {
      "text/plain": [
       "array([[ 19.      ],\n",
       "       [ 25.790001],\n",
       "       [ 25.      ],\n",
       "       ...,\n",
       "       [188.460007],\n",
       "       [191.149994],\n",
       "       [193.75    ]])"
      ]
     },
     "execution_count": 10,
     "metadata": {},
     "output_type": "execute_result"
    }
   ],
   "source": [
    "train=train_data.values.reshape(-1,1)\n",
    "train"
   ]
  },
  {
   "cell_type": "code",
   "execution_count": 11,
   "metadata": {},
   "outputs": [],
   "source": [
    "# Normalization\n",
    "# Scale the data between the range [0,1]\n",
    "\n",
    "scaler = MinMaxScaler()\n",
    "scaled_trainset = scaler.fit_transform(train)"
   ]
  },
  {
   "cell_type": "code",
   "execution_count": 12,
   "metadata": {},
   "outputs": [
    {
     "data": {
      "text/plain": [
       "array([[0.01053291],\n",
       "       [0.03553936],\n",
       "       [0.03262991],\n",
       "       ...,\n",
       "       [0.634626  ],\n",
       "       [0.64453278],\n",
       "       [0.65410817]])"
      ]
     },
     "execution_count": 12,
     "metadata": {},
     "output_type": "execute_result"
    }
   ],
   "source": [
    "scaled_trainset"
   ]
  },
  {
   "cell_type": "code",
   "execution_count": 13,
   "metadata": {},
   "outputs": [
    {
     "data": {
      "image/png": "[encoded data removed]",
      "text/plain": [
       "<Figure size 1080x432 with 1 Axes>"
      ]
     },
     "metadata": {
      "needs_background": "light"
     },
     "output_type": "display_data"
    }
   ],
   "source": [
    "plt.subplots(figsize = (15,6))\n",
    "plt.plot(train)\n",
    "plt.show()"
   ]
  },
  {
   "cell_type": "markdown",
   "metadata": {},
   "source": [
    "### For this model the first 50 values will be taken as the x values and 51st value will be used as the y value in the training data"
   ]
  },
  {
   "cell_type": "code",
   "execution_count": 14,
   "metadata": {},
   "outputs": [],
   "source": [
    "x_train = []\n",
    "y_train = []\n",
    "step = 50\n",
    "\n",
    "for i in range(step, train_length):\n",
    "    x_train.append(scaled_trainset[i-step:i,0])\n",
    "    y_train.append(scaled_trainset[i,0])"
   ]
  },
  {
   "cell_type": "code",
   "execution_count": 15,
   "metadata": {},
   "outputs": [],
   "source": [
    "X_train, y_train = np.array(x_train), np.array(y_train)"
   ]
  },
  {
   "cell_type": "code",
   "execution_count": 16,
   "metadata": {},
   "outputs": [
    {
     "name": "stdout",
     "output_type": "stream",
     "text": [
      "(1134, 50)\n",
      "(1134,)\n"
     ]
    }
   ],
   "source": [
    "print(X_train.shape)\n",
    "print(y_train.shape)"
   ]
  },
  {
   "cell_type": "code",
   "execution_count": 17,
   "metadata": {},
   "outputs": [
    {
     "data": {
      "text/plain": [
       "array([[0.01789858],\n",
       "       [0.01697787],\n",
       "       [0.01749346],\n",
       "       ...,\n",
       "       [0.634626  ],\n",
       "       [0.64453278],\n",
       "       [0.65410817]])"
      ]
     },
     "execution_count": 17,
     "metadata": {},
     "output_type": "execute_result"
    }
   ],
   "source": [
    "X_train = np.reshape(X_train, (X_train.shape[0],X_train.shape[1],1))\n",
    "y_train.reshape(y_train.shape[0],1)"
   ]
  },
  {
   "cell_type": "code",
   "execution_count": 18,
   "metadata": {},
   "outputs": [
    {
     "name": "stdout",
     "output_type": "stream",
     "text": [
      "(1134, 50, 1)\n",
      "(1134,)\n"
     ]
    }
   ],
   "source": [
    "print(X_train.shape)\n",
    "print(y_train.shape)"
   ]
  },
  {
   "cell_type": "code",
   "execution_count": 19,
   "metadata": {},
   "outputs": [
    {
     "data": {
      "text/plain": [
       "(50, 1)"
      ]
     },
     "execution_count": 19,
     "metadata": {},
     "output_type": "execute_result"
    }
   ],
   "source": [
    "X_train[0].shape"
   ]
  },
  {
   "cell_type": "code",
   "execution_count": 20,
   "metadata": {},
   "outputs": [
    {
     "data": {
      "text/plain": [
       "0.017898577503111683"
      ]
     },
     "execution_count": 20,
     "metadata": {},
     "output_type": "execute_result"
    }
   ],
   "source": [
    "y_train[0]"
   ]
  },
  {
   "cell_type": "code",
   "execution_count": 21,
   "metadata": {},
   "outputs": [],
   "source": [
    "# RNN model\n",
    "import keras\n",
    "from keras.models import Sequential\n",
    "from keras.layers import Dense\n",
    "from keras.layers import SimpleRNN\n",
    "from keras.layers import Dropout"
   ]
  },
  {
   "cell_type": "code",
   "execution_count": 22,
   "metadata": {},
   "outputs": [],
   "source": [
    "model = Sequential()\n",
    "\n",
    "model.add(\n",
    "    SimpleRNN(units = 50,return_sequences= True,input_shape = (X_train.shape[1],1)))\n",
    "\n",
    "model.add(\n",
    "    Dropout(0.2))\n",
    "\n",
    "model.add(\n",
    "    SimpleRNN(units = 50, return_sequences = True)\n",
    "             )\n",
    "\n",
    "model.add(\n",
    "    Dropout(0.2)\n",
    "             )\n",
    "\n",
    "model.add(\n",
    "    SimpleRNN(units = 50, return_sequences = True)\n",
    "             )\n",
    "\n",
    "model.add(\n",
    "    Dropout(0.2)\n",
    "             )\n",
    "\n",
    "model.add(\n",
    "    SimpleRNN(units = 50)\n",
    "             )\n",
    "\n",
    "model.add(\n",
    "    Dropout(0.2)\n",
    "             )\n",
    "\n",
    "model.add(\n",
    "    Dense(units = 1))"
   ]
  },
  {
   "cell_type": "code",
   "execution_count": 23,
   "metadata": {},
   "outputs": [],
   "source": [
    "model.compile(optimizer = 'adam', loss = 'mean_squared_error', metrics = ['accuracy'])"
   ]
  },
  {
   "cell_type": "code",
   "execution_count": 24,
   "metadata": {},
   "outputs": [
    {
     "name": "stdout",
     "output_type": "stream",
     "text": [
      "Model: \"sequential\"\n",
      "_________________________________________________________________\n",
      " Layer (type)                Output Shape              Param #   \n",
      "=================================================================\n",
      " simple_rnn (SimpleRNN)      (None, 50, 50)            2600      \n",
      "                                                                 \n",
      " dropout (Dropout)           (None, 50, 50)            0         \n",
      "                                                                 \n",
      " simple_rnn_1 (SimpleRNN)    (None, 50, 50)            5050      \n",
      "                                                                 \n",
      " dropout_1 (Dropout)         (None, 50, 50)            0         \n",
      "                                                                 \n",
      " simple_rnn_2 (SimpleRNN)    (None, 50, 50)            5050      \n",
      "                                                                 \n",
      " dropout_2 (Dropout)         (None, 50, 50)            0         \n",
      "                                                                 \n",
      " simple_rnn_3 (SimpleRNN)    (None, 50)                5050      \n",
      "                                                                 \n",
      " dropout_3 (Dropout)         (None, 50)                0         \n",
      "                                                                 \n",
      " dense (Dense)               (None, 1)                 51        \n",
      "                                                                 \n",
      "=================================================================\n",
      "Total params: 17,801\n",
      "Trainable params: 17,801\n",
      "Non-trainable params: 0\n",
      "_________________________________________________________________\n"
     ]
    }
   ],
   "source": [
    "model.summary()"
   ]
  },
  {
   "cell_type": "code",
   "execution_count": 25,
   "metadata": {},
   "outputs": [
    {
     "name": "stdout",
     "output_type": "stream",
     "text": [
      "Epoch 1/50\n",
      "36/36 [==============================] - 9s 61ms/step - loss: 0.4326 - accuracy: 8.8183e-04\n",
      "Epoch 2/50\n",
      "36/36 [==============================] - 2s 61ms/step - loss: 0.2659 - accuracy: 0.0000e+00\n",
      "Epoch 3/50\n",
      "36/36 [==============================] - 2s 60ms/step - loss: 0.2057 - accuracy: 8.8183e-04\n",
      "Epoch 4/50\n",
      "36/36 [==============================] - 2s 61ms/step - loss: 0.1330 - accuracy: 8.8183e-04\n",
      "Epoch 5/50\n",
      "36/36 [==============================] - 2s 62ms/step - loss: 0.1004 - accuracy: 0.0000e+00\n",
      "Epoch 6/50\n",
      "36/36 [==============================] - 2s 60ms/step - loss: 0.0740 - accuracy: 8.8183e-04\n",
      "Epoch 7/50\n",
      "36/36 [==============================] - 2s 60ms/step - loss: 0.0537 - accuracy: 8.8183e-04\n",
      "Epoch 8/50\n",
      "36/36 [==============================] - 2s 61ms/step - loss: 0.0462 - accuracy: 8.8183e-04\n",
      "Epoch 9/50\n",
      "36/36 [==============================] - 2s 61ms/step - loss: 0.0381 - accuracy: 8.8183e-04\n",
      "Epoch 10/50\n",
      "36/36 [==============================] - 2s 61ms/step - loss: 0.0287 - accuracy: 8.8183e-04\n",
      "Epoch 11/50\n",
      "36/36 [==============================] - 2s 59ms/step - loss: 0.0265 - accuracy: 0.0000e+00\n",
      "Epoch 12/50\n",
      "36/36 [==============================] - 2s 59ms/step - loss: 0.0263 - accuracy: 8.8183e-04\n",
      "Epoch 13/50\n",
      "36/36 [==============================] - 2s 61ms/step - loss: 0.0216 - accuracy: 8.8183e-04\n",
      "Epoch 14/50\n",
      "36/36 [==============================] - 2s 60ms/step - loss: 0.0216 - accuracy: 8.8183e-04\n",
      "Epoch 15/50\n",
      "36/36 [==============================] - 2s 60ms/step - loss: 0.0202 - accuracy: 0.0000e+00\n",
      "Epoch 16/50\n",
      "36/36 [==============================] - 2s 61ms/step - loss: 0.0179 - accuracy: 8.8183e-04\n",
      "Epoch 17/50\n",
      "36/36 [==============================] - 2s 57ms/step - loss: 0.0166 - accuracy: 8.8183e-04\n",
      "Epoch 18/50\n",
      "36/36 [==============================] - 2s 59ms/step - loss: 0.0146 - accuracy: 8.8183e-04\n",
      "Epoch 19/50\n",
      "36/36 [==============================] - 2s 59ms/step - loss: 0.0162 - accuracy: 8.8183e-04\n",
      "Epoch 20/50\n",
      "36/36 [==============================] - 2s 61ms/step - loss: 0.0136 - accuracy: 8.8183e-04\n",
      "Epoch 21/50\n",
      "36/36 [==============================] - 2s 60ms/step - loss: 0.0148 - accuracy: 8.8183e-04\n",
      "Epoch 22/50\n",
      "36/36 [==============================] - 2s 61ms/step - loss: 0.0113 - accuracy: 8.8183e-04\n",
      "Epoch 23/50\n",
      "36/36 [==============================] - 2s 60ms/step - loss: 0.0107 - accuracy: 8.8183e-04\n",
      "Epoch 24/50\n",
      "36/36 [==============================] - 2s 61ms/step - loss: 0.0113 - accuracy: 8.8183e-04\n",
      "Epoch 25/50\n",
      "36/36 [==============================] - 2s 59ms/step - loss: 0.0115 - accuracy: 8.8183e-04\n",
      "Epoch 26/50\n",
      "36/36 [==============================] - 2s 62ms/step - loss: 0.0118 - accuracy: 8.8183e-04\n",
      "Epoch 27/50\n",
      "36/36 [==============================] - 2s 60ms/step - loss: 0.0092 - accuracy: 8.8183e-04\n",
      "Epoch 28/50\n",
      "36/36 [==============================] - 2s 61ms/step - loss: 0.0096 - accuracy: 8.8183e-04\n",
      "Epoch 29/50\n",
      "36/36 [==============================] - 2s 60ms/step - loss: 0.0082 - accuracy: 8.8183e-04\n",
      "Epoch 30/50\n",
      "36/36 [==============================] - 2s 60ms/step - loss: 0.0073 - accuracy: 8.8183e-04\n",
      "Epoch 31/50\n",
      "36/36 [==============================] - 2s 61ms/step - loss: 0.0084 - accuracy: 8.8183e-04\n",
      "Epoch 32/50\n",
      "36/36 [==============================] - 2s 60ms/step - loss: 0.0072 - accuracy: 8.8183e-04\n",
      "Epoch 33/50\n",
      "36/36 [==============================] - 2s 60ms/step - loss: 0.0071 - accuracy: 8.8183e-04\n",
      "Epoch 34/50\n",
      "36/36 [==============================] - 2s 61ms/step - loss: 0.0079 - accuracy: 8.8183e-04\n",
      "Epoch 35/50\n",
      "36/36 [==============================] - 2s 60ms/step - loss: 0.0068 - accuracy: 8.8183e-04\n",
      "Epoch 36/50\n",
      "36/36 [==============================] - 2s 59ms/step - loss: 0.0065 - accuracy: 8.8183e-04\n",
      "Epoch 37/50\n",
      "36/36 [==============================] - 2s 61ms/step - loss: 0.0060 - accuracy: 8.8183e-04\n",
      "Epoch 38/50\n",
      "36/36 [==============================] - 2s 59ms/step - loss: 0.0053 - accuracy: 8.8183e-04\n",
      "Epoch 39/50\n",
      "36/36 [==============================] - 2s 60ms/step - loss: 0.0050 - accuracy: 8.8183e-04\n",
      "Epoch 40/50\n",
      "36/36 [==============================] - 2s 59ms/step - loss: 0.0056 - accuracy: 8.8183e-04\n",
      "Epoch 41/50\n",
      "36/36 [==============================] - 2s 58ms/step - loss: 0.0049 - accuracy: 8.8183e-04\n",
      "Epoch 42/50\n",
      "36/36 [==============================] - 2s 59ms/step - loss: 0.0054 - accuracy: 8.8183e-04\n",
      "Epoch 43/50\n",
      "36/36 [==============================] - 2s 61ms/step - loss: 0.0043 - accuracy: 8.8183e-04\n",
      "Epoch 44/50\n",
      "36/36 [==============================] - 2s 60ms/step - loss: 0.0055 - accuracy: 8.8183e-04\n",
      "Epoch 45/50\n",
      "36/36 [==============================] - 2s 59ms/step - loss: 0.0048 - accuracy: 8.8183e-04\n",
      "Epoch 46/50\n",
      "36/36 [==============================] - 2s 56ms/step - loss: 0.0044 - accuracy: 8.8183e-04\n",
      "Epoch 47/50\n",
      "36/36 [==============================] - 2s 58ms/step - loss: 0.0039 - accuracy: 8.8183e-04\n",
      "Epoch 48/50\n",
      "36/36 [==============================] - 2s 60ms/step - loss: 0.0043 - accuracy: 8.8183e-04\n",
      "Epoch 49/50\n",
      "36/36 [==============================] - 2s 59ms/step - loss: 0.0038 - accuracy: 8.8183e-04\n",
      "Epoch 50/50\n",
      "36/36 [==============================] - 2s 59ms/step - loss: 0.0038 - accuracy: 8.8183e-04\n"
     ]
    }
   ],
   "source": [
    "history = model.fit(X_train, y_train, epochs = 50, batch_size =32)"
   ]
  },
  {
   "cell_type": "code",
   "execution_count": 26,
   "metadata": {},
   "outputs": [
    {
     "data": {
      "text/plain": [
       "[<matplotlib.lines.Line2D at 0x24899dd0c10>]"
      ]
     },
     "execution_count": 26,
     "metadata": {},
     "output_type": "execute_result"
    },
    {
     "data": {
      "image/png": "[encoded data removed]",
      "text/plain": [
       "<Figure size 432x288 with 1 Axes>"
      ]
     },
     "metadata": {
      "needs_background": "light"
     },
     "output_type": "display_data"
    }
   ],
   "source": [
    "plt.plot(history.history['loss'])"
   ]
  },
  {
   "cell_type": "code",
   "execution_count": 27,
   "metadata": {},
   "outputs": [
    {
     "data": {
      "text/plain": [
       "[<matplotlib.lines.Line2D at 0x24899e56700>]"
      ]
     },
     "execution_count": 27,
     "metadata": {},
     "output_type": "execute_result"
    },
    {
     "data": {
      "image/png": "[encoded data removed]",
      "text/plain": [
       "<Figure size 432x288 with 1 Axes>"
      ]
     },
     "metadata": {
      "needs_background": "light"
     },
     "output_type": "display_data"
    }
   ],
   "source": [
    "plt.plot(history.history['accuracy'])"
   ]
  },
  {
   "cell_type": "code",
   "execution_count": 28,
   "metadata": {},
   "outputs": [
    {
     "name": "stdout",
     "output_type": "stream",
     "text": [
      "36/36 [==============================] - 2s 17ms/step\n"
     ]
    }
   ],
   "source": [
    "y_pred = model.predict(X_train)\n",
    "y_pred = scaler.inverse_transform(y_pred.reshape(1,-1))"
   ]
  },
  {
   "cell_type": "code",
   "execution_count": 29,
   "metadata": {},
   "outputs": [
    {
     "data": {
      "text/plain": [
       "array([[ 20.926718,  21.304842,  21.613895, ..., 208.93365 , 206.9868  ,\n",
       "        205.27356 ]], dtype=float32)"
      ]
     },
     "execution_count": 29,
     "metadata": {},
     "output_type": "execute_result"
    }
   ],
   "source": [
    "y_pred"
   ]
  },
  {
   "cell_type": "code",
   "execution_count": 30,
   "metadata": {},
   "outputs": [
    {
     "data": {
      "text/plain": [
       "array([0.01789858, 0.01697787, 0.01749346, ..., 0.634626  , 0.64453278,\n",
       "       0.65410817])"
      ]
     },
     "execution_count": 30,
     "metadata": {},
     "output_type": "execute_result"
    }
   ],
   "source": [
    "y_train"
   ]
  },
  {
   "cell_type": "code",
   "execution_count": 31,
   "metadata": {},
   "outputs": [
    {
     "data": {
      "text/plain": [
       "array([[ 21.      ,  20.75    ,  20.889999, ..., 188.460007, 191.149994,\n",
       "        193.75    ]])"
      ]
     },
     "execution_count": 31,
     "metadata": {},
     "output_type": "execute_result"
    }
   ],
   "source": [
    "y_train = scaler.inverse_transform(y_train.reshape(1,-1))\n",
    "y_train"
   ]
  },
  {
   "cell_type": "code",
   "execution_count": 73,
   "metadata": {},
   "outputs": [],
   "source": [
    "y_train.shape\n",
    "y_train = np.reshape(y_train, (1134,1))"
   ]
  },
  {
   "cell_type": "code",
   "execution_count": 74,
   "metadata": {},
   "outputs": [],
   "source": [
    "y_pred.shape\n",
    "y_pred = np.reshape(y_pred,(1134,1))"
   ]
  },
  {
   "cell_type": "code",
   "execution_count": 80,
   "metadata": {},
   "outputs": [
    {
     "data": {
      "image/png": "[encoded data removed]",
      "text/plain": [
       "<Figure size 2160x720 with 1 Axes>"
      ]
     },
     "metadata": {
      "needs_background": "light"
     },
     "output_type": "display_data"
    }
   ],
   "source": [
    "plt.figure(figsize = (30,10))\n",
    "plt.plot(y_pred, ls = '--', label = 'y_pred', lw = 2)\n",
    "plt.plot(y_train, label = 'y_train')\n",
    "plt.legend()\n",
    "plt.show()"
   ]
  }
 ],
 "metadata": {
  "kernelspec": {
   "display_name": "Python 3 (ipykernel)",
   "language": "python",
   "name": "python3"
  },
  "language_info": {
   "codemirror_mode": {
    "name": "ipython",
    "version": 3
   },
   "file_extension": ".py",
   "mimetype": "text/x-python",
   "name": "python",
   "nbconvert_exporter": "python",
   "pygments_lexer": "ipython3",
   "version": "3.9.12"
  },
  "vscode": {
   "interpreter": {
    "hash": "eb2a71abdcbd08b2757e1330e9c1a0a14ae9fc462f00286eaffb35381aa5e722"
   }
  }
 },
 "nbformat": 4,
 "nbformat_minor": 2
}
